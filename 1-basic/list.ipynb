{
 "cells": [
  {
   "cell_type": "code",
   "execution_count": 38,
   "metadata": {},
   "outputs": [
    {
     "name": "stdout",
     "output_type": "stream",
     "text": [
      "Hello, this is the first cell!\n"
     ]
    }
   ],
   "source": [
    "# This is a new cell created at index 0\n",
    "print(\"Hello, this is the first cell!\")"
   ]
  },
  {
   "cell_type": "code",
   "execution_count": 39,
   "metadata": {},
   "outputs": [
    {
     "name": "stdout",
     "output_type": "stream",
     "text": [
      "[1, 2, 3, 4, 5]\n",
      "['apple', 'banana', 'cherry']\n"
     ]
    }
   ],
   "source": [
    "numbers = [1, 2, 3, 4, 5]\n",
    "strings = [\"apple\", \"banana\", \"cherry\"]\n",
    "print(numbers)\n",
    "print(strings)"
   ]
  },
  {
   "cell_type": "code",
   "execution_count": 40,
   "metadata": {},
   "outputs": [
    {
     "name": "stdout",
     "output_type": "stream",
     "text": [
      "[1, 'apple', 2, 'banana', 3, 'cherry']\n"
     ]
    }
   ],
   "source": [
    "# list with mixed data types\n",
    "mixed = [1, \"apple\", 2, \"banana\", 3, \"cherry\"]\n",
    "print(mixed)"
   ]
  },
  {
   "cell_type": "code",
   "execution_count": 41,
   "metadata": {},
   "outputs": [
    {
     "name": "stdout",
     "output_type": "stream",
     "text": [
      "['orange', 'apple', 2, 'banana', 3, 'cherry']\n"
     ]
    }
   ],
   "source": [
    "# modify element\n",
    "mixed[0] = \"orange\"\n",
    "print(mixed)"
   ]
  },
  {
   "cell_type": "code",
   "execution_count": 42,
   "metadata": {},
   "outputs": [
    {
     "name": "stdout",
     "output_type": "stream",
     "text": [
      "['orange', 'apple', 2, 'banana', 3, 'cherry', 'kiwi']\n"
     ]
    }
   ],
   "source": [
    "# add element\n",
    "mixed.append(\"kiwi\")\n",
    "print(mixed)\n",
    "\n"
   ]
  },
  {
   "cell_type": "code",
   "execution_count": 43,
   "metadata": {},
   "outputs": [
    {
     "name": "stdout",
     "output_type": "stream",
     "text": [
      "['orange', 'insert with index 1', 'apple', 2, 'banana', 3, 'cherry', 'kiwi']\n"
     ]
    }
   ],
   "source": [
    "# insert element with index\n",
    "mixed.insert(1, \"insert with index 1\")\n",
    "print(mixed)"
   ]
  },
  {
   "cell_type": "code",
   "execution_count": 44,
   "metadata": {},
   "outputs": [
    {
     "name": "stdout",
     "output_type": "stream",
     "text": [
      "['orange', 'apple', 2, 'banana', 3, 'cherry', 'kiwi']\n"
     ]
    }
   ],
   "source": [
    "# pop with index\n",
    "a = mixed.pop(1)\n",
    "print(mixed)"
   ]
  },
  {
   "cell_type": "code",
   "execution_count": 48,
   "metadata": {},
   "outputs": [
    {
     "name": "stdout",
     "output_type": "stream",
     "text": [
      "['orange', 2, 'banana', 3, 'cherry', 'kiwi', 'apple']\n",
      "['orange', 2, 'banana', 3, 'cherry', 'kiwi']\n",
      "['orange', 2, 'banana', 3, 'cherry']\n"
     ]
    }
   ],
   "source": [
    "# remove first hit with value\n",
    "mixed.append(\"apple\")\n",
    "print(mixed)\n",
    "mixed.remove(\"apple\")\n",
    "print(mixed)\n",
    "\n",
    "mixed.pop()\n",
    "print(mixed)"
   ]
  },
  {
   "cell_type": "code",
   "execution_count": 49,
   "metadata": {},
   "outputs": [],
   "source": [
    "# ------------\n"
   ]
  },
  {
   "cell_type": "code",
   "execution_count": 51,
   "metadata": {},
   "outputs": [
    {
     "name": "stdout",
     "output_type": "stream",
     "text": [
      "[0, 1, 4, 9, 16, 25, 36, 49, 64, 81]\n"
     ]
    }
   ],
   "source": [
    "# other way to create list\n",
    "squares = [x**2 for x in range(10)]\n",
    "print(squares)"
   ]
  },
  {
   "cell_type": "code",
   "execution_count": 53,
   "metadata": {},
   "outputs": [
    {
     "name": "stdout",
     "output_type": "stream",
     "text": [
      "[0, 2, 4, 6, 8]\n"
     ]
    }
   ],
   "source": [
    "evens = [x for x in range(10) if x % 2 == 0]\n",
    "print(evens)"
   ]
  },
  {
   "cell_type": "code",
   "execution_count": 58,
   "metadata": {},
   "outputs": [
    {
     "name": "stdout",
     "output_type": "stream",
     "text": [
      "[['1 * 1 = 1', '1 * 2 = 2', '1 * 3 = 3', '1 * 4 = 4', '1 * 5 = 5', '1 * 6 = 6', '1 * 7 = 7', '1 * 8 = 8', '1 * 9 = 9'], ['2 * 2 = 4', '2 * 3 = 6', '2 * 4 = 8', '2 * 5 = 10', '2 * 6 = 12', '2 * 7 = 14', '2 * 8 = 16', '2 * 9 = 18'], ['3 * 3 = 9', '3 * 4 = 12', '3 * 5 = 15', '3 * 6 = 18', '3 * 7 = 21', '3 * 8 = 24', '3 * 9 = 27'], ['4 * 4 = 16', '4 * 5 = 20', '4 * 6 = 24', '4 * 7 = 28', '4 * 8 = 32', '4 * 9 = 36'], ['5 * 5 = 25', '5 * 6 = 30', '5 * 7 = 35', '5 * 8 = 40', '5 * 9 = 45'], ['6 * 6 = 36', '6 * 7 = 42', '6 * 8 = 48', '6 * 9 = 54'], ['7 * 7 = 49', '7 * 8 = 56', '7 * 9 = 63'], ['8 * 8 = 64', '8 * 9 = 72'], ['9 * 9 = 81']]\n"
     ]
    }
   ],
   "source": [
    "# 9*9 matrix\n",
    "matrix = [[f\"{x} * {y} = {x*y}\" for y in range(x, 10)] for x in range(1, 10)]   \n",
    "print(matrix)"
   ]
  },
  {
   "cell_type": "code",
   "execution_count": 61,
   "metadata": {},
   "outputs": [
    {
     "name": "stdout",
     "output_type": "stream",
     "text": [
      "[1, 4, 9, 16, 25]\n"
     ]
    }
   ],
   "source": [
    "# given a list, how to apply function to each element?\n",
    "numbers = [1, 2, 3, 4, 5]\n",
    "squares = list(map(lambda x: x**2, numbers))\n",
    "print(squares)"
   ]
  },
  {
   "cell_type": "code",
   "execution_count": 63,
   "metadata": {},
   "outputs": [
    {
     "name": "stdout",
     "output_type": "stream",
     "text": [
      "[2, 4]\n"
     ]
    }
   ],
   "source": [
    "# given a list, how to filter data?\n",
    "evens = list(filter(lambda x: x % 2 == 0, numbers))\n",
    "print(evens)"
   ]
  },
  {
   "cell_type": "code",
   "execution_count": 68,
   "metadata": {},
   "outputs": [
    {
     "name": "stdout",
     "output_type": "stream",
     "text": [
      "[2, 3]\n",
      "[1, 2, 3, 4, 5]\n",
      "[2, 3, 6]\n"
     ]
    }
   ],
   "source": [
    "# slice\n",
    "numbers = [1, 2, 3, 4, 5]\n",
    "sublist = numbers[1:3] # creating a new list\n",
    "print(sublist)\n",
    "sublist.append(6)\n",
    "print(numbers)\n",
    "print(sublist)"
   ]
  },
  {
   "cell_type": "code",
   "execution_count": 72,
   "metadata": {},
   "outputs": [
    {
     "name": "stdout",
     "output_type": "stream",
     "text": [
      "[1, 1, 2, 3, 3, 4, 5, 5, 5, 6, 9]\n",
      "['apple', 'Banana', 'cherry', 'Durian']\n",
      "['Banana', 'Durian', 'apple', 'cherry']\n"
     ]
    }
   ],
   "source": [
    "# sort\n",
    "numbers = [3, 1, 4, 1, 5, 9, 2, 6, 5, 3, 5]\n",
    "numbers.sort()\n",
    "print(numbers)\n",
    "\n",
    "# sort with key\n",
    "my_list = [\"apple\", \"Banana\", \"cherry\", \"Durian\"]\n",
    "my_list.sort(key=lambda x: x.lower())\n",
    "print(my_list)\n",
    "my_list.sort(key=lambda x: x[0])\n",
    "print(my_list)"
   ]
  },
  {
   "cell_type": "code",
   "execution_count": 75,
   "metadata": {},
   "outputs": [
    {
     "name": "stdout",
     "output_type": "stream",
     "text": [
      "['apple', 'Banana', 'cherry', 'Durian']\n"
     ]
    }
   ],
   "source": [
    "# sort by def\n",
    "def sort_by_second_letter(s):\n",
    "    return s.lower()[0]\n",
    "my_list.sort(key=sort_by_second_letter)\n",
    "print(my_list)"
   ]
  }
 ],
 "metadata": {
  "kernelspec": {
   "display_name": ".venv",
   "language": "python",
   "name": "python3"
  },
  "language_info": {
   "codemirror_mode": {
    "name": "ipython",
    "version": 3
   },
   "file_extension": ".py",
   "mimetype": "text/x-python",
   "name": "python",
   "nbconvert_exporter": "python",
   "pygments_lexer": "ipython3",
   "version": "3.13.0"
  }
 },
 "nbformat": 4,
 "nbformat_minor": 2
}
