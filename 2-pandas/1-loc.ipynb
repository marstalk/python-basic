{
 "cells": [
  {
   "cell_type": "code",
   "execution_count": 1,
   "metadata": {},
   "outputs": [],
   "source": [
    "import pandas as pd\n",
    "\n",
    "sales_df = pd.read_csv(\"../dataset/sales_data.csv\")"
   ]
  },
  {
   "cell_type": "code",
   "execution_count": null,
   "metadata": {},
   "outputs": [],
   "source": [
    "# .loc，降维查询。\n",
    "# df.loc[\"<LABEL>\"] return sr\n",
    "# sr.loc[\"<COLUMN>\"] return item\n",
    "print(sales_df.loc[3].loc[\"Sales\"])\n",
    "print(type(sales_df.loc[3].loc[\"Sales\"]))\n",
    "print()\n",
    "print(sales_df)\n",
    "\n",
    "print()\n",
    "# recommend:\n",
    "print(sales_df.loc[1, \"Region\"] == \"South\")\n",
    "\n",
    "# return sr\n",
    "print(sales_df.loc[7, [\"Region\", \"Cost\"]])\n",
    "print(type(sales_df.loc[7, [\"Region\", \"Cost\"]]))\n"
   ]
  },
  {
   "cell_type": "code",
   "execution_count": 4,
   "metadata": {},
   "outputs": [
    {
     "name": "stdout",
     "output_type": "stream",
     "text": [
      "         Date  Profit\n",
      "0  2024-01-01     100\n",
      "1  2024-01-02      60\n",
      "<class 'pandas.core.frame.DataFrame'>\n"
     ]
    }
   ],
   "source": [
    "# multiple\n",
    "print(sales_df.loc[[0,1], [\"Date\", \"Profit\"]])\n",
    "print(type(sales_df.loc[[0,1], [\"Date\", \"Profit\"]]))"
   ]
  },
  {
   "cell_type": "code",
   "execution_count": 5,
   "metadata": {},
   "outputs": [
    {
     "name": "stdout",
     "output_type": "stream",
     "text": [
      "         Date Region   Product  Sales  Profit  Cost Customer_Segment\n",
      "0  2024-01-01  North  Widget A    500     100   400       Enterprise\n",
      "1  2024-01-02  South  Widget B    300      60   240              SMB\n",
      "2  2024-01-03   West  Widget A    700     150   550       Enterprise\n",
      "3  2024-01-04   East  Widget C    200      30   170              SMB\n",
      "4  2024-01-05  North  Widget B    450      90   360       Enterprise\n",
      "   Sales  Profit  Cost\n",
      "0    500     100   400\n",
      "1    300      60   240\n",
      "2    700     150   550\n",
      "3    200      30   170\n",
      "4    450      90   360\n",
      "5    350      50   300\n"
     ]
    }
   ],
   "source": [
    "# betweeen(inluding start and end)\n",
    "print(sales_df.head())\n",
    "print(sales_df.loc[0:5, \"Sales\":\"Cost\"])"
   ]
  },
  {
   "cell_type": "code",
   "execution_count": 10,
   "metadata": {},
   "outputs": [
    {
     "name": "stdout",
     "output_type": "stream",
     "text": [
      "0    False\n",
      "1    False\n",
      "2     True\n",
      "3    False\n",
      "4    False\n",
      "5    False\n",
      "6     True\n",
      "7    False\n",
      "8    False\n",
      "9     True\n",
      "Name: Sales, dtype: bool\n",
      "<class 'pandas.core.series.Series'>\n"
     ]
    }
   ],
   "source": [
    "# expression\n",
    "print(sales_df[\"Sales\"] > 500)\n",
    "print(type(sales_df[\"Sales\"] > 500))"
   ]
  },
  {
   "cell_type": "code",
   "execution_count": 15,
   "metadata": {},
   "outputs": [
    {
     "name": "stdout",
     "output_type": "stream",
     "text": [
      "         Date Region   Product  Sales  Profit  Cost Customer_Segment\n",
      "2  2024-01-03   West  Widget A    700     150   550       Enterprise\n",
      "6  2024-01-07   West  Widget A    600     120   480       Enterprise\n",
      "9  2024-01-10  South  Widget A    800     160   640              SMB\n"
     ]
    }
   ],
   "source": [
    "# .loc use a Series<Boolean> to filter data:\n",
    "print(sales_df.loc[sales_df[\"Sales\"]>500, :])"
   ]
  },
  {
   "cell_type": "code",
   "execution_count": null,
   "metadata": {},
   "outputs": [
    {
     "name": "stdout",
     "output_type": "stream",
     "text": [
      "         Date Region   Product  Sales  Profit  Cost Customer_Segment\n",
      "4  2024-01-05  North  Widget B    450      90   360       Enterprise\n"
     ]
    }
   ],
   "source": [
    "# boolean operation\n",
    "print(sales_df.loc[(sales_df[\"Sales\"] > 400) & (sales_df[\"Cost\"] < 400), :])"
   ]
  },
  {
   "cell_type": "code",
   "execution_count": 38,
   "metadata": {},
   "outputs": [
    {
     "name": "stdout",
     "output_type": "stream",
     "text": [
      "<class 'pandas.core.series.Series'>\n",
      "         Date Region   Product  Sales  Profit  Cost Customer_Segment\n",
      "2  2024-01-03   West  Widget A    700     150   550       Enterprise\n",
      "6  2024-01-07   West  Widget A    600     120   480       Enterprise\n",
      "9  2024-01-10  South  Widget A    800     160   640              SMB\n"
     ]
    }
   ],
   "source": [
    "# use function that return a Series<Boolean>\n",
    "def good_product(sales_df):\n",
    "    return (sales_df[\"Sales\"] > 300) & (sales_df[\"Profit\"] > 100)\n",
    "\n",
    "print(type(good_product(sales_df)))\n",
    "print(sales_df.loc[good_product(sales_df), :])"
   ]
  }
 ],
 "metadata": {
  "kernelspec": {
   "display_name": ".venv",
   "language": "python",
   "name": "python3"
  },
  "language_info": {
   "codemirror_mode": {
    "name": "ipython",
    "version": 3
   },
   "file_extension": ".py",
   "mimetype": "text/x-python",
   "name": "python",
   "nbconvert_exporter": "python",
   "pygments_lexer": "ipython3",
   "version": "3.13.2"
  }
 },
 "nbformat": 4,
 "nbformat_minor": 2
}
