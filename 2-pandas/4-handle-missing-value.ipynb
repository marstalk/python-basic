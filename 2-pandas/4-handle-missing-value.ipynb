{
 "cells": [
  {
   "cell_type": "code",
   "execution_count": null,
   "metadata": {},
   "outputs": [],
   "source": [
    "# how to handle the null value?\n",
    "# 1. drop the row or column\n",
    "# 2. fill the a default\n",
    "# 3. fill the mean, median, before or after value."
   ]
  },
  {
   "cell_type": "code",
   "execution_count": null,
   "metadata": {},
   "outputs": [],
   "source": [
    "import pandas as pd"
   ]
  },
  {
   "cell_type": "code",
   "execution_count": null,
   "metadata": {},
   "outputs": [],
   "source": [
    "score_df = pd.read_excel(\"../dataset/students_score.xlsx\", skiprows=2)\n",
    "score_df"
   ]
  },
  {
   "cell_type": "code",
   "execution_count": null,
   "metadata": {},
   "outputs": [],
   "source": [
    "# 1. check null values for df or sr\n",
    "score_df.isnull()"
   ]
  },
  {
   "cell_type": "code",
   "execution_count": null,
   "metadata": {},
   "outputs": [],
   "source": [
    "# 2. find all the rows that score is not null\n",
    "score_df.loc[score_df[\"score\"].notnull()]"
   ]
  },
  {
   "cell_type": "code",
   "execution_count": null,
   "metadata": {},
   "outputs": [],
   "source": [
    "# 3. drop the columns which all the value is null\n",
    "# inplace=True, modify the original df\n",
    "# how=\"all\", drop the column if all the value is null, \n",
    "# how=\"any\", drop the column if any value is null, default is \"any\"\n",
    "score_df.dropna(axis=1, how=\"all\", inplace=True)\n",
    "score_df.head(20)"
   ]
  },
  {
   "cell_type": "code",
   "execution_count": null,
   "metadata": {},
   "outputs": [],
   "source": [
    "# 4. fill 0 for the null value for the score column\n",
    "score_df[\"score\"].fillna(0, inplace=True)\n",
    "score_df.head(20)"
   ]
  },
  {
   "cell_type": "code",
   "execution_count": null,
   "metadata": {},
   "outputs": [],
   "source": [
    "# 4.2 or with a map\n",
    "# for score column, fill 0 for the null value\n",
    "score_df.fillna({\"score\": 0})"
   ]
  },
  {
   "cell_type": "code",
   "execution_count": null,
   "metadata": {},
   "outputs": [],
   "source": [
    "# 5. fill the name column with before value\n",
    "score_df.fillna(method=\"ffill\", inplace=True)\n",
    "score_df.head(20)"
   ]
  },
  {
   "cell_type": "code",
   "execution_count": null,
   "metadata": {},
   "outputs": [],
   "source": [
    "# 5.2 or obj.ffill()\n",
    "score_df[\"name\"].ffill(inplace=True)\n",
    "score_df.head(20)"
   ]
  },
  {
   "cell_type": "code",
   "execution_count": 16,
   "metadata": {},
   "outputs": [],
   "source": [
    "# save to a new file\n",
    "score_df.to_excel(\"../dataset/students_score_cleaned.xlsx\", index=False)"
   ]
  }
 ],
 "metadata": {
  "kernelspec": {
   "display_name": ".venv",
   "language": "python",
   "name": "python3"
  },
  "language_info": {
   "codemirror_mode": {
    "name": "ipython",
    "version": 3
   },
   "file_extension": ".py",
   "mimetype": "text/x-python",
   "name": "python",
   "nbconvert_exporter": "python",
   "pygments_lexer": "ipython3",
   "version": "3.13.2"
  }
 },
 "nbformat": 4,
 "nbformat_minor": 2
}
