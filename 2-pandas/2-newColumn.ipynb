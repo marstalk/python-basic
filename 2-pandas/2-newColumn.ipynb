{
 "cells": [
  {
   "cell_type": "code",
   "execution_count": null,
   "metadata": {},
   "outputs": [],
   "source": [
    "import pandas as pd\n",
    "\n",
    "sales_df = pd.read_csv(\"../dataset/sales_data.csv\")\n",
    "\n",
    "print(sales_df.head())\n"
   ]
  },
  {
   "cell_type": "code",
   "execution_count": null,
   "metadata": {},
   "outputs": [],
   "source": [
    "# 1. directly put\n",
    "sales_df[\"Sales_yuan\"] = sales_df[\"Sales\"] * 6.7\n",
    "print(sales_df.head())\n",
    "\n",
    "sales_df[\"other\"] = sales_df[\"Sales\"] - sales_df[\"Cost\"] - sales_df[\"Profit\"]\n",
    "print(sales_df.head())"
   ]
  },
  {
   "cell_type": "code",
   "execution_count": null,
   "metadata": {},
   "outputs": [],
   "source": [
    "# 2. apply, apply the function to each element\n",
    "def convert_currency(value):\n",
    "    return value * 6.7\n",
    "\n",
    "sales_df[\"Sales_yuan_2\"] = sales_df[\"Sales\"].apply(convert_currency)\n",
    "print(sales_df.head())\n",
    "\n",
    "# 2.1 apply with axis, axis = 0: apply to each column, axis = 1: apply to each row\n",
    "def get_profit(row):\n",
    "    return row[\"Sales\"] - row[\"Cost\"]\n",
    "sales_df[\"Profit_2\"] = sales_df.apply(get_profit, axis=1)\n",
    "print(sales_df.head())\n",
    "\n"
   ]
  },
  {
   "cell_type": "code",
   "execution_count": null,
   "metadata": {},
   "outputs": [],
   "source": [
    "# 2.2 apply with axis, apply to each column\n",
    "def printm(column):\n",
    "    print(column[1])\n",
    "\n",
    "print(sales_df.head())\n",
    "sales_df.apply(printm, axis=0)"
   ]
  },
  {
   "cell_type": "code",
   "execution_count": null,
   "metadata": {},
   "outputs": [],
   "source": [
    "# 3 assign multiple columns df.assign(xx=lambda, yy=lambda), remember a new object.\n",
    "sales_df = pd.read_csv(\"../dataset/sales_data.csv\")\n",
    "sales_df.head()\n",
    "\n",
    "sales_df = sales_df.assign(\n",
    "    Sales_RMB = lambda x : x[\"Sales\"] * 7.5,\n",
    "    Sales_Russia = lambda x : x[\"Profit\"] * 2.1\n",
    ")\n",
    "\n",
    "sales_df.head()"
   ]
  },
  {
   "cell_type": "code",
   "execution_count": 17,
   "metadata": {},
   "outputs": [
    {
     "data": {
      "text/html": [
       "<div>\n",
       "<style scoped>\n",
       "    .dataframe tbody tr th:only-of-type {\n",
       "        vertical-align: middle;\n",
       "    }\n",
       "\n",
       "    .dataframe tbody tr th {\n",
       "        vertical-align: top;\n",
       "    }\n",
       "\n",
       "    .dataframe thead th {\n",
       "        text-align: right;\n",
       "    }\n",
       "</style>\n",
       "<table border=\"1\" class=\"dataframe\">\n",
       "  <thead>\n",
       "    <tr style=\"text-align: right;\">\n",
       "      <th></th>\n",
       "      <th>Date</th>\n",
       "      <th>Region</th>\n",
       "      <th>Product</th>\n",
       "      <th>Sales</th>\n",
       "      <th>Profit</th>\n",
       "      <th>Cost</th>\n",
       "      <th>Customer_Segment</th>\n",
       "      <th>Profit_type</th>\n",
       "    </tr>\n",
       "  </thead>\n",
       "  <tbody>\n",
       "    <tr>\n",
       "      <th>0</th>\n",
       "      <td>2024-01-01</td>\n",
       "      <td>North</td>\n",
       "      <td>Widget A</td>\n",
       "      <td>500</td>\n",
       "      <td>100</td>\n",
       "      <td>400</td>\n",
       "      <td>Enterprise</td>\n",
       "      <td>High</td>\n",
       "    </tr>\n",
       "    <tr>\n",
       "      <th>1</th>\n",
       "      <td>2024-01-02</td>\n",
       "      <td>South</td>\n",
       "      <td>Widget B</td>\n",
       "      <td>300</td>\n",
       "      <td>60</td>\n",
       "      <td>240</td>\n",
       "      <td>SMB</td>\n",
       "      <td>Low</td>\n",
       "    </tr>\n",
       "    <tr>\n",
       "      <th>2</th>\n",
       "      <td>2024-01-03</td>\n",
       "      <td>West</td>\n",
       "      <td>Widget A</td>\n",
       "      <td>700</td>\n",
       "      <td>150</td>\n",
       "      <td>550</td>\n",
       "      <td>Enterprise</td>\n",
       "      <td>High</td>\n",
       "    </tr>\n",
       "    <tr>\n",
       "      <th>3</th>\n",
       "      <td>2024-01-04</td>\n",
       "      <td>East</td>\n",
       "      <td>Widget C</td>\n",
       "      <td>200</td>\n",
       "      <td>30</td>\n",
       "      <td>170</td>\n",
       "      <td>SMB</td>\n",
       "      <td>Low</td>\n",
       "    </tr>\n",
       "    <tr>\n",
       "      <th>4</th>\n",
       "      <td>2024-01-05</td>\n",
       "      <td>North</td>\n",
       "      <td>Widget B</td>\n",
       "      <td>450</td>\n",
       "      <td>90</td>\n",
       "      <td>360</td>\n",
       "      <td>Enterprise</td>\n",
       "      <td>Low</td>\n",
       "    </tr>\n",
       "  </tbody>\n",
       "</table>\n",
       "</div>"
      ],
      "text/plain": [
       "         Date Region   Product  Sales  Profit  Cost Customer_Segment  \\\n",
       "0  2024-01-01  North  Widget A    500     100   400       Enterprise   \n",
       "1  2024-01-02  South  Widget B    300      60   240              SMB   \n",
       "2  2024-01-03   West  Widget A    700     150   550       Enterprise   \n",
       "3  2024-01-04   East  Widget C    200      30   170              SMB   \n",
       "4  2024-01-05  North  Widget B    450      90   360       Enterprise   \n",
       "\n",
       "  Profit_type  \n",
       "0        High  \n",
       "1         Low  \n",
       "2        High  \n",
       "3         Low  \n",
       "4         Low  "
      ]
     },
     "execution_count": 17,
     "metadata": {},
     "output_type": "execute_result"
    }
   ],
   "source": [
    "# 4. 按条件分组，分别计算并赋值，\n",
    "# Profit>100, 高利润，profit_type = \"High\", \n",
    "# Profit<=100, 低利润，profit_type = \"Low\"\n",
    "sales_df = pd.read_csv(\"../dataset/sales_data.csv\")\n",
    "sales_df.head()\n",
    "\n",
    "sales_df[\"Profit_type\"] = \"\"\n",
    "sales_df.head()\n",
    "\n",
    "sales_df.loc[sales_df[\"Profit\"] >= 100, \"Profit_type\"] = \"High\"\n",
    "sales_df.loc[sales_df[\"Profit\"] < 100, \"Profit_type\"] = \"Low\"\n",
    "sales_df.head()"
   ]
  }
 ],
 "metadata": {
  "kernelspec": {
   "display_name": ".venv",
   "language": "python",
   "name": "python3"
  },
  "language_info": {
   "codemirror_mode": {
    "name": "ipython",
    "version": 3
   },
   "file_extension": ".py",
   "mimetype": "text/x-python",
   "name": "python",
   "nbconvert_exporter": "python",
   "pygments_lexer": "ipython3",
   "version": "3.13.2"
  }
 },
 "nbformat": 4,
 "nbformat_minor": 2
}
